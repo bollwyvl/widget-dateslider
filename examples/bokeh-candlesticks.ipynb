{
 "cells": [
  {
   "cell_type": "code",
   "execution_count": null,
   "metadata": {
    "collapsed": false
   },
   "outputs": [],
   "source": [
    "from datetime import datetime\n",
    "from traitlets import link, dlink\n",
    "from ipywidgets import Text, VBox, HTML\n",
    "from dateslider.widgets import DateSlider\n",
    "from dateutil import parser\n",
    "\n",
    "from math import pi\n",
    "import pandas as pd\n",
    "\n",
    "from bokeh.sampledata.stocks import MSFT\n",
    "from bokeh.plotting import figure, output_notebook, show, ColumnDataSource\n",
    "from bokeh.models import Span\n",
    "from bokeh.io import push_notebook\n",
    "output_notebook()"
   ]
  },
  {
   "cell_type": "code",
   "execution_count": null,
   "metadata": {
    "collapsed": true
   },
   "outputs": [],
   "source": [
    "df = pd.DataFrame(MSFT)[:50]\n",
    "df['date'] = pd.to_datetime(df['date'])\n",
    "\n",
    "mids = (df.open + df.close)/2\n",
    "spans = abs(df.close-df.open)\n",
    "\n",
    "inc = df.close > df.open\n",
    "dec = df.open > df.close\n",
    "w = 12*60*60*1000 # half day in ms"
   ]
  },
  {
   "cell_type": "code",
   "execution_count": null,
   "metadata": {
    "collapsed": false
   },
   "outputs": [],
   "source": [
    "p = figure(x_axis_type=\"datetime\", plot_width=1000)\n",
    "p.title = \"MSFT Candlestick\"\n",
    "p.xaxis.major_label_orientation = pi/4\n",
    "p.grid.grid_line_alpha=0.3\n",
    "p.segment(df.date, df.high, df.date, df.low, color='black')\n",
    "p.rect(df.date[inc], mids[inc], w, spans[inc], fill_color=\"#D5E1DD\", line_color=\"black\")\n",
    "p.rect(df.date[dec], mids[dec], w, spans[dec], fill_color=\"#F2583E\", line_color=\"black\")\n",
    "\n",
    "source = ColumnDataSource({\"location\": [datetime.now().timestamp() * 1e3]})\n",
    "line = Span(\n",
    "    location=df.date.min().to_datetime().timestamp() * 1e3,\n",
    "    dimension='height', line_color='green',\n",
    "    line_dash='dashed')\n",
    "p.renderers += [line]"
   ]
  },
  {
   "cell_type": "code",
   "execution_count": null,
   "metadata": {
    "collapsed": false
   },
   "outputs": [],
   "source": [
    "ds = DateSlider(\n",
    "    value=datetime.now(),\n",
    "    start=df.date.min().to_datetime(),\n",
    "    end=df.date.max().to_datetime()\n",
    ")\n",
    "\n",
    "@ds.observe\n",
    "def _ds_changed(change):\n",
    "    line.location = ds.value.timestamp() * 1000\n",
    "    if line in p.renderers:\n",
    "        p.renderers.remove(line)\n",
    "        push_notebook()\n",
    "    p.renderers.append(line)\n",
    "    push_notebook()"
   ]
  },
  {
   "cell_type": "code",
   "execution_count": null,
   "metadata": {
    "collapsed": false
   },
   "outputs": [],
   "source": [
    "show(p);"
   ]
  },
  {
   "cell_type": "code",
   "execution_count": null,
   "metadata": {
    "collapsed": true
   },
   "outputs": [],
   "source": [
    "ds"
   ]
  }
 ],
 "metadata": {
  "kernelspec": {
   "display_name": "Python 3",
   "language": "python",
   "name": "python3"
  },
  "language_info": {
   "codemirror_mode": {
    "name": "ipython",
    "version": 3
   },
   "file_extension": ".py",
   "mimetype": "text/x-python",
   "name": "python",
   "nbconvert_exporter": "python",
   "pygments_lexer": "ipython3",
   "version": "3.4.4"
  }
 },
 "nbformat": 4,
 "nbformat_minor": 0
}
